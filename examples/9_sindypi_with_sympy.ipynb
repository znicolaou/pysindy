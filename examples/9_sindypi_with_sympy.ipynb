{
 "cells": [
  {
   "cell_type": "markdown",
   "metadata": {},
   "source": [
    "# SINDy-PI Feature Overview\n",
    "\n",
    "This notebook provides a simple overview of the basic functionality of SINDy-PI implemented in PySINDy, and is written by Alan Kaptanoglu and Kadierdan Kaheman. SINDy-PI is used to handle generic implicit ODEs of the form,\n",
    "$$ \\frac{d}{dt}\\mathbf{x} = \\mathbf{f}(\\mathbf{x}, \\dot{\\mathbf{x}}) \\approx \\mathbf{\\Theta}(\\mathbf{x}, \\dot{\\mathbf{x}})\\mathbf{\\Xi}$$\n",
    "This is based off of the paper \"Kaheman, K., Kutz, J. N., & Brunton, S. L. (2020). SINDy-PI: a robust algorithm for parallel implicit sparse identification of nonlinear dynamics. Proceedings of the Royal Society A, 476(2242), 20200279.\"\n",
    "\n",
    "We should clarify that building SINDy libraries $\\mathbf{\\Theta}(\\mathbf{x}, \\dot{\\mathbf{x}})$ depending on both $\\mathbf{x}$ and $\\dot{\\mathbf{x}}$ is also possible with any of the PySINDy libraries. However, in that case one must be sure to omit the linear $\\dot{\\mathbf{x}}$ term in the library (since then the SINDy model will just fit $\\dot{\\mathbf{x}} = \\dot{\\mathbf{x}}$) and otherwise be careful about the matrix conditioning. The benefit of not using the SINDy-PI functionality is that you can avoid using SymPy (see below).\n",
    "\n",
    "An interactive version of this notebook is available on binder\n",
    "[![Binder](https://mybinder.org/badge_logo.svg)](https://mybinder.org/v2/gh/dynamicslab/pysindy/v1.7?filepath=examples/9_sindypi_with_sympy.ipynb)"
   ]
  },
  {
   "cell_type": "code",
   "execution_count": 1,
   "metadata": {},
   "outputs": [],
   "source": [
    "# Import libraries.\n",
    "import numpy as np\n",
    "from matplotlib import pyplot as plt\n",
    "import pysindy as ps \n",
    "from pysindy.differentiation import FiniteDifference\n",
    "from pysindy.utils import enzyme, bacterial\n",
    "import sympy as sp\n",
    "from scipy.integrate import solve_ivp\n",
    "\n",
    "# ignore user warnings\n",
    "import warnings\n",
    "warnings.filterwarnings(\"ignore\", category=UserWarning)\n",
    "\n",
    "# For reproducibility\n",
    "np.random.seed(100)\n",
    "\n",
    "integrator_keywords = {}\n",
    "integrator_keywords['rtol'] = 1e-12\n",
    "integrator_keywords['method'] = 'LSODA'\n",
    "integrator_keywords['atol'] = 1e-12"
   ]
  },
  {
   "cell_type": "markdown",
   "metadata": {},
   "source": [
    "# Example to show library functionality\n",
    "Below, we define custom libraries for x and x_dot, showing that the resulting full library and library names are a tensor product of the two independent libraries. Note that to generate the constant function 1 without generating repeated entries, we need to use include_bias=True."
   ]
  },
  {
   "cell_type": "code",
   "execution_count": 2,
   "metadata": {},
   "outputs": [
    {
     "name": "stdout",
     "output_type": "stream",
     "text": [
      "Without function names: \n",
      "['f0(x0)', 'f0(x1)', 'f1(x0,x1)', 'f_dot0(x0_dot)', 'f_dot0(x1_dot)', 'f0(x0)f_dot0(x0_dot)', 'f0(x1)f_dot0(x0_dot)', 'f1(x0,x1)f_dot0(x0_dot)', 'f0(x0)f_dot0(x1_dot)', 'f0(x1)f_dot0(x1_dot)', 'f1(x0,x1)f_dot0(x1_dot)'] \n",
      "\n",
      "With function names: \n",
      "['exp(x0)', 'exp(x1)', 'sin(x0x1)', 'x0_dot', 'x1_dot', 'exp(x0)x0_dot', 'exp(x1)x0_dot', 'sin(x0x1)x0_dot', 'exp(x0)x1_dot', 'exp(x1)x1_dot', 'sin(x0x1)x1_dot'] \n",
      "\n",
      "With function names and bias term: \n",
      "['1', 'exp(x0)', 'exp(x1)', 'sin(x0x1)', 'x0_dot', 'x1_dot', 'exp(x0)x0_dot', 'exp(x1)x0_dot', 'sin(x0x1)x0_dot', 'exp(x0)x1_dot', 'exp(x1)x1_dot', 'sin(x0x1)x1_dot']\n"
     ]
    }
   ],
   "source": [
    "t = np.linspace(0, 1, 5)\n",
    "x = np.ones((5, 2))\n",
    "\n",
    "# Functions to be applied to the data x\n",
    "functions = [lambda x: np.exp(x), lambda x, y: np.sin(x + y)]\n",
    "\n",
    "# Functions to be applied to the data x_dot\n",
    "x_dot_functions = [lambda x: x]\n",
    "\n",
    "lib = ps.SINDyPILibrary(\n",
    "    library_functions=functions,\n",
    "    x_dot_library_functions=x_dot_functions,\n",
    "    t=t,\n",
    ").fit(x)\n",
    "lib.transform(x)\n",
    "print(\"Without function names: \")\n",
    "print(lib.get_feature_names(), \"\\n\")\n",
    "\n",
    "# Function names includes both the x and x_dot functions\n",
    "function_names = [\n",
    "    lambda x: \"exp(\" + x + \")\",\n",
    "    lambda x, y: \"sin(\" + x + y + \")\",\n",
    "    lambda x: x,\n",
    "]\n",
    "lib = ps.SINDyPILibrary(\n",
    "    library_functions=functions,\n",
    "    x_dot_library_functions=x_dot_functions,\n",
    "    function_names=function_names,\n",
    "    t=t,\n",
    ").fit(x)\n",
    "lib.transform(x)\n",
    "print(\"With function names: \")\n",
    "print(lib.get_feature_names(), \"\\n\")\n",
    "\n",
    "# Now include a bias term (constant term)\n",
    "lib = ps.SINDyPILibrary(\n",
    "    library_functions=functions,\n",
    "    x_dot_library_functions=x_dot_functions,\n",
    "    function_names=function_names,\n",
    "    t=t,\n",
    "    include_bias=True,\n",
    ").fit(x)\n",
    "lib.transform(x)\n",
    "print(\"With function names and bias term: \")\n",
    "print(lib.get_feature_names())\n"
   ]
  },
  {
   "cell_type": "markdown",
   "metadata": {},
   "source": [
    "### Solve 1D Michelson-Menten enzyme model as first demonstration\n",
    "The Michelson-Menten enzyme model is,\n",
    "$$\\dot{x} = 0.6 - \\frac{1.5 x}{0.3 + x}.$$\n",
    "Note that, instead of dealing with fractional terms, it can be rearranged into\n",
    "$$\\dot{x} = \\frac{3}{5} -3 x - \\frac{10}{3} x\\dot{x},$$\n",
    "which is an implicit ODE, since the right-hand-side now depends on $\\dot{x}$! In order to handle this scenario, SINDy-PI builds a candidate library with terms depending on both $x$ and $\\dot{x}$, and solves the optimization problem, \n",
    "$$\\|\\Theta(x, \\dot{x}) - \\Theta(x, \\dot{x})\\Xi\\|_2 + \\lambda\\|\\Xi\\|_1, \\quad s.t. \\text{diag}(\\Xi) = 0.$$\n",
    "This reason this modified optimization is required is that linear terms in $\\dot{x}$ are no longer guaranteed, so every candidate library term is fit with a different model to find the best combination of implicit terms. Note $\\text{diag}(\\Xi) = 0$ is required because without this, the model would just fit every candidate library term with itself, $\\dot{x} = \\dot{x}$, $x\\dot{x} = x\\dot{x}$, $x^2\\dot{x} = x^2\\dot{x}$, and so on."
   ]
  },
  {
   "cell_type": "code",
   "execution_count": 3,
   "metadata": {},
   "outputs": [
    {
     "name": "stdout",
     "output_type": "stream",
     "text": [
      "(4002, 1) 4002\n",
      "Solver failed on model  3 , setting coefs to zeros\n",
      "1 = 5.000 x0 + 1.667 x0_dot + 5.556 x0x0_dot\n",
      "x0 = 0.200 1 + -0.333 x0_dot + -1.111 x0x0_dot\n",
      "x0x0 = 0.198 x0 + 0.007 x0x0x0 + -0.338 x0x0_dot + -1.099 x0x0x0_dot\n",
      "x0x0x0 = 0.000\n",
      "x0x0x0x0 = -0.001 1 + 0.363 x0x0x0 + 0.041 x0x0_dot + -1.205 x0x0x0x0x0_dot\n",
      "x0_dot = 0.600 1 + -3.000 x0 + -3.333 x0x0_dot\n",
      "x0x0_dot = 0.180 1 + -0.900 x0 + -0.300 x0_dot\n",
      "x0x0x0_dot = -0.004 1 + 0.136 x0 + -0.508 x0x0 + -0.344 x0x0x0 + -0.102 x0x0_dot + -0.219 x0x0x0x0x0_dot\n",
      "x0x0x0x0_dot = 0.003 1 + 0.001 x0 + -0.391 x0x0x0 + -0.247 x0x0x0x0 + -0.108 x0x0_dot\n",
      "x0x0x0x0x0_dot = 0.001 1 + -0.670 x0x0x0x0 + -0.005 x0_dot + 0.029 x0x0_dot + -0.271 x0x0x0_dot\n"
     ]
    }
   ],
   "source": [
    "# define parameters\n",
    "r = 1\n",
    "dt = 0.001\n",
    "T = 4\n",
    "t = np.arange(0, T + dt, dt)\n",
    "t_span = (t[0], t[-1])\n",
    "x0_train = [0.55]\n",
    "x_train = solve_ivp(enzyme, t_span, x0_train, t_eval=t, **integrator_keywords).y.T\n",
    "\n",
    "# Initialize custom SINDy library so that we can have x_dot inside it. \n",
    "x_library_functions = [\n",
    "    lambda x: x,\n",
    "    lambda x, y: x * y,\n",
    "    lambda x: x ** 2,\n",
    "    lambda x, y, z: x * y * z,\n",
    "    lambda x, y: x * y ** 2,\n",
    "    lambda x: x ** 3,\n",
    "    lambda x, y, z, w: x * y * z * w,\n",
    "    lambda x, y, z: x * y * z ** 2,\n",
    "    lambda x, y: x * y ** 3,\n",
    "    lambda x: x ** 4,\n",
    "]\n",
    "x_dot_library_functions = [lambda x: x]\n",
    "\n",
    "# library function names includes both \n",
    "# the x_library_functions and x_dot_library_functions names\n",
    "library_function_names = [\n",
    "    lambda x: x,\n",
    "    lambda x, y: x + y,\n",
    "    lambda x: x + x,\n",
    "    lambda x, y, z: x + y + z,\n",
    "    lambda x, y: x + y + y,\n",
    "    lambda x: x + x + x,\n",
    "    lambda x, y, z, w: x + y + z + w,\n",
    "    lambda x, y, z: x + y + z + z,\n",
    "    lambda x, y: x + y + y + y,\n",
    "    lambda x: x + x + x + x,\n",
    "    lambda x: x,\n",
    "]\n",
    "\n",
    "# Need to pass time base to the library so can build the x_dot library from x\n",
    "sindy_library = ps.SINDyPILibrary(\n",
    "    library_functions=x_library_functions,\n",
    "    x_dot_library_functions=x_dot_library_functions,\n",
    "    t=t[1:-1],\n",
    "    function_names=library_function_names,\n",
    "    include_bias=True,\n",
    ")\n",
    "\n",
    "# Use the SINDy-PI optimizer, which relies on CVXPY.\n",
    "# Note that if LHS of the equation fits the data poorly,\n",
    "# CVXPY often returns failure.\n",
    "sindy_opt = ps.SINDyPI(\n",
    "    threshold=1e-6,\n",
    "    tol=1e-8,\n",
    "    thresholder=\"l1\",\n",
    "    max_iter=20000,\n",
    ")\n",
    "model = ps.SINDy(\n",
    "    optimizer=sindy_opt,\n",
    "    feature_library=sindy_library,\n",
    "    differentiation_method=ps.FiniteDifference(drop_endpoints=True),\n",
    ")\n",
    "model.fit(x_train, t=t)\n",
    "model.print()"
   ]
  },
  {
   "cell_type": "markdown",
   "metadata": {},
   "source": [
    "### Okay, so how to choose which model to use?\n",
    "So SINDy-PI has generated a different dynamical model for each of the candidate library terms, but how do we choose which one to use? This can be decided in many ways, but an easy choice is picking the model that minimizes the mean-squared error of the $\\dot{x}$ testing data. There are many other ways to choose, and the SINDy-PI paper noted that bad models tend to also be less sparse, so sparsity is another metric for selection. Below, we simply integrate forward all the models and on this testing trajectory, they basically all perform fine. "
   ]
  },
  {
   "cell_type": "code",
   "execution_count": 4,
   "metadata": {},
   "outputs": [
    {
     "name": "stdout",
     "output_type": "stream",
     "text": [
      "(4002, 1) 4002\n"
     ]
    },
    {
     "data": {
      "image/png": "[encoded data removed]",
      "text/plain": [
       "<Figure size 432x288 with 1 Axes>"
      ]
     },
     "metadata": {
      "needs_background": "light"
     },
     "output_type": "display_data"
    }
   ],
   "source": [
    "# Plot the fit of the derivative\n",
    "x_dot_train = model.differentiate(x_train, t)\n",
    "x_dot_train_pred = sindy_opt.Theta_ @ sindy_opt.coef_.T\n",
    "plt.figure()\n",
    "for i in range(r):\n",
    "    plt.subplot(1, r, i + 1)\n",
    "    plt.plot(t, x_dot_train[:, i], 'k')\n",
    "    plt.plot(t[1:-1], x_dot_train_pred[:, 5], 'r--')"
   ]
  },
  {
   "cell_type": "markdown",
   "metadata": {},
   "source": [
    "### Now we need to reformat all the feature strings for conversion into symbolic variables\n",
    "So we have all these nice models but these are implicit ODEs, and the default Python solvers (solve_ivp and odeint) cannot solve implicit ODEs. There are two options although we only illustrate the first option below; we must convert the equations into symbolic variables and then either (1) use SymPy to symbolically solve the equation for $\\dot{x}$, after which the equation is no longer implicit and can be solved with the default Python solves, or (2) convert the equations into a symbolic differential algebraic equation (DAE), which can be numerically solved with the diffeqpy Python package (but requires Julia to be installed). "
   ]
  },
  {
   "cell_type": "code",
   "execution_count": 5,
   "metadata": {},
   "outputs": [
    {
     "name": "stdout",
     "output_type": "stream",
     "text": [
      "['1', 'x0', 'x0x0', 'x0x0x0', 'x0x0x0x0', 'x0_dot', 'x0x0_dot', 'x0x0x0_dot', 'x0x0x0x0_dot', 'x0x0x0x0x0_dot']\n",
      "['1', 'x0', 'x0 * x0', 'x0 * x0 * x0', 'x0 * x0 * x0 * x0', 'x0_dot', 'x0 * x0_dot', 'x0 * x0 * x0_dot', 'x0 * x0 * x0 * x0_dot', 'x0 * x0 * x0 * x0 * x0_dot']\n"
     ]
    }
   ],
   "source": [
    "features = model.get_feature_names()\n",
    "features[0] = \"1\"\n",
    "features_copy = list(np.copy(features))\n",
    "nfeatures = len(features)\n",
    "features_formatted = []\n",
    "# Need to put multiplication between terms for sympy\n",
    "for i in range(nfeatures):\n",
    "    for j in range(r):\n",
    "        # Overkill to make sure all the x0, x1, etc. get replaced\n",
    "        temp_string = features[i].replace(\"x\" + str(j) + \"x\", \"x\" + str(j) + \" * x\")\n",
    "        temp_string = temp_string.replace(\"x\" + str(j) + \"x\", \"x\" + str(j) + \" * x\")\n",
    "        temp_string = temp_string.replace(\"x\" + str(j) + \"x\", \"x\" + str(j) + \" * x\")\n",
    "        temp_string = temp_string.replace(\"x\" + str(j) + \"x\", \"x\" + str(j) + \" * x\")\n",
    "        features[i] = temp_string\n",
    "    features_formatted.append(temp_string)\n",
    "features = features_copy\n",
    "print(features)\n",
    "print(features_formatted)\n",
    "coefs = model.coefficients()\n",
    "sym_features = [sp.symbols(feature) for feature in features]\n",
    "sym_theta = [sp.symbols(feature) for feature in features]"
   ]
  },
  {
   "cell_type": "markdown",
   "metadata": {},
   "source": [
    "### Check all the model fits produce sensible models"
   ]
  },
  {
   "cell_type": "code",
   "execution_count": 6,
   "metadata": {},
   "outputs": [
    {
     "name": "stdout",
     "output_type": "stream",
     "text": [
      "1  =  5.0*x0 + 1.67*x0_dot + 5.56*x0x0_dot\n",
      "x0  =  0.2*1 - 0.33*x0_dot - 1.11*x0x0_dot\n",
      "x0x0  =  0.2*x0 - 0.34*x0x0_dot + 0.01*x0x0x0 - 1.1*x0x0x0_dot\n",
      "x0x0x0  =  0\n",
      "x0x0x0x0  =  0.04*x0x0_dot + 0.36*x0x0x0 - 1.21*x0x0x0x0x0_dot\n",
      "x0_dot  =  0.6*1 - 3.0*x0 - 3.33*x0x0_dot\n",
      "x0x0_dot  =  0.18*1 - 0.9*x0 - 0.3*x0_dot\n",
      "x0x0x0_dot  =  0.14*x0 - 0.51*x0x0 - 0.1*x0x0_dot - 0.34*x0x0x0 - 0.22*x0x0x0x0x0_dot\n",
      "x0x0x0x0_dot  =  -0.11*x0x0_dot - 0.39*x0x0x0 - 0.25*x0x0x0x0\n",
      "x0x0x0x0x0_dot  =  -0.01*x0_dot + 0.03*x0x0_dot - 0.27*x0x0x0_dot - 0.67*x0x0x0x0\n"
     ]
    }
   ],
   "source": [
    "sym_equations = []\n",
    "sym_equations_rounded = []\n",
    "for i in range(nfeatures):\n",
    "    sym_equations.append(\n",
    "        sp.solve(\n",
    "            sp.Eq(sym_theta[i], sym_theta @ np.around(coefs[i], 10)), sym_features[i]\n",
    "        )\n",
    "    )\n",
    "    sym_equations_rounded.append(\n",
    "        sp.solve(\n",
    "            sp.Eq(sym_theta[i], sym_theta @ np.around(coefs[i], 2)), sym_features[i]\n",
    "        )\n",
    "    )\n",
    "    print(sym_theta[i], \" = \", sym_equations_rounded[i][0])\n"
   ]
  },
  {
   "cell_type": "markdown",
   "metadata": {},
   "source": [
    "### Now we will:\n",
    "1. reformat all the equations\n",
    "2. solve symbolically for x_dot \n",
    "3. integrate and plot the new equations for x_dot"
   ]
  },
  {
   "cell_type": "code",
   "execution_count": 7,
   "metadata": {},
   "outputs": [
    {
     "data": {
      "text/plain": [
       "<matplotlib.legend.Legend at 0x7fdacb01d250>"
      ]
     },
     "execution_count": 7,
     "metadata": {},
     "output_type": "execute_result"
    },
    {
     "data": {
      "image/png": "[encoded data removed]",
      "text/plain": [
       "<Figure size 1152x216 with 1 Axes>"
      ]
     },
     "metadata": {
      "needs_background": "light"
     },
     "output_type": "display_data"
    }
   ],
   "source": [
    "# Define the ODE symbol variables\n",
    "t_sym = sp.symbols(\"t_sym\")\n",
    "x_sym = sp.symbols(\"x:%d\" % r)\n",
    "x_dot_sym = sp.symbols(\"x:%d_dot\" % r)\n",
    "\n",
    "# Need to format the above equations so that there are space between x0 * x0, x0 * x_dot0, and so on.\n",
    "sym_equations_formatted = []\n",
    "sym_equations_rounded_formatted = []\n",
    "for i in range(nfeatures):\n",
    "    for j in range(r):\n",
    "        # Overkill to make sure all the x0, x1, etc. get replaced\n",
    "        temp_string = str(sym_equations[i]).replace(\n",
    "            \"x\" + str(j) + \"x\", \"x\" + str(j) + \" * x\"\n",
    "        )\n",
    "        temp_string = temp_string.replace(\"x\" + str(j) + \"x\", \"x\" + str(j) + \" * x\")\n",
    "        temp_string = temp_string.replace(\"x\" + str(j) + \"x\", \"x\" + str(j) + \" * x\")\n",
    "        temp_string = temp_string.replace(\"x\" + str(j) + \"x\", \"x\" + str(j) + \" * x\")\n",
    "        temp_rounded_string = str(sym_equations_rounded[i]).replace(\n",
    "            \"x\" + str(j) + \"x\", \"x\" + str(j) + \" * x\"\n",
    "        )\n",
    "        temp_rounded_string = temp_rounded_string.replace(\n",
    "            \"x\" + str(j) + \"x\", \"x\" + str(j) + \" * x\"\n",
    "        )\n",
    "        temp_rounded_string = temp_rounded_string.replace(\n",
    "            \"x\" + str(j) + \"x\", \"x\" + str(j) + \" * x\"\n",
    "        )\n",
    "        temp_rounded_string = temp_rounded_string.replace(\n",
    "            \"x\" + str(j) + \"x\", \"x\" + str(j) + \" * x\"\n",
    "        )\n",
    "        sym_equations_formatted.append(temp_string)\n",
    "        sym_equations_rounded_formatted.append(temp_rounded_string)\n",
    "\n",
    "# Now that the equations are mathematically formatted, \n",
    "# solve for x_dot0 in the algebraic equation.\n",
    "sym_equations_simplified = []\n",
    "sym_equations_rounded_simplified = []\n",
    "for i in range(nfeatures):\n",
    "    sym_equations_simplified.append(\n",
    "        sp.solve(\n",
    "            sp.Add(\n",
    "                sp.sympify(sym_equations_formatted)[i][0],\n",
    "                -sp.sympify(features_formatted[i]),\n",
    "            ),\n",
    "            x_dot_sym,\n",
    "        )\n",
    "    )\n",
    "    rounded = sp.solve(\n",
    "        sp.Add(\n",
    "            sp.sympify(sym_equations_rounded_formatted)[i][0],\n",
    "            -sp.sympify(features_formatted[i]),\n",
    "        ),\n",
    "        x_dot_sym,\n",
    "    )\n",
    "    if len(rounded) != 0:\n",
    "        rounded_temp = rounded[0]\n",
    "        for a in sp.preorder_traversal(rounded):\n",
    "            if isinstance(a, sp.Float):\n",
    "                rounded_temp = rounded_temp.subs(a, round(a, 2))\n",
    "        sym_equations_rounded_simplified.append(rounded_temp)\n",
    "    else:\n",
    "        sym_equations_rounded_simplified.append([])\n",
    "\n",
    "# Plot the results for each of the models\n",
    "plt.figure(figsize=(16, 3))\n",
    "x0_test = np.random.rand(1)\n",
    "x_test = solve_ivp(enzyme, t_span, x0_test, t_eval=t).y.T\n",
    "plt.plot(t, x_test, color=\"k\", linestyle=\"solid\", label=\"True\")\n",
    "for i in range(nfeatures):\n",
    "    ax = plt.gca()\n",
    "    if i != nfeatures - 1:\n",
    "        ax.set_xticklabels([])\n",
    "    if len(sym_equations_simplified[i]) != 0:\n",
    "        ODE_Func = sp.lambdify([t_sym, x_sym], sym_equations_simplified[i][0])\n",
    "\n",
    "        # Now simulate the system we identified\n",
    "        x_test_sim = solve_ivp(ODE_Func, t_span, x0_test, t_eval=t).y.T\n",
    "        if (\n",
    "            np.linalg.norm(x_test_sim) < 1e3\n",
    "            and sym_equations_rounded_simplified[i] != 0\n",
    "        ):\n",
    "            plt.plot(\n",
    "                t,\n",
    "                x_test_sim,\n",
    "                linestyle=\"dashed\",\n",
    "                label=str(sp.sympify(features_formatted[i]))\n",
    "                + \" = \"\n",
    "                + str(sym_equations_rounded_simplified[i]),\n",
    "            )\n",
    "plt.grid(True)\n",
    "plt.legend(fontsize=8)"
   ]
  },
  {
   "cell_type": "markdown",
   "metadata": {},
   "source": [
    "### We will now try a 2D example, the bacterial competence system (Mangan et al. 2016)\n",
    "$$ \\begin{aligned} \\dot{x} &= a_1 + \\frac{a_2x^2}{a_3 + x^2} - \\frac{x}{1 + x + y} \\\\  \\dot{y} &= \\frac{b_1}{1 + b_2 x^5} - \\frac{y}{1 + x + y} \\end{aligned} $$\n",
    "with $a_1=0.004$, $a_2=0.07$, $a_3=0.04$, $b_1=0.82$, $b_2=1854.5$. Note that multi-variable SymPy will require some changes, and multi-variable SINDy-PI typically requires many trajectories to correctly identify models."
   ]
  },
  {
   "cell_type": "code",
   "execution_count": 8,
   "metadata": {},
   "outputs": [
    {
     "name": "stdout",
     "output_type": "stream",
     "text": [
      "x0 = 0.000\n",
      "x1 = 0.000\n",
      "x0x1 = 0.000\n",
      "x0x0 = 0.000\n",
      "x1x1 = 0.000\n",
      "x0x1x1 = 0.000\n",
      "x0x0x0 = 0.000\n",
      "x1x1x1 = 0.000\n",
      "x0x1x1x1 = 0.000\n",
      "x0x0x0x0 = 0.000\n",
      "x1x1x1x1 = 0.000\n",
      "x0x0x0x0x0 = 0.000\n",
      "x1x1x1x1x1 = 0.000\n",
      "x0x0x0x0x0x0 = 0.000\n",
      "x1x1x1x1x1x1 = 0.000\n",
      "x0_dot = -0.410 x0 + 0.007 x1 + 0.021 x0x1\n",
      "x1_dot = 0.010 x0 + 0.244 x1 + -0.332 x1x1 + 0.082 x1x1x1x1 + -0.020 x1x1x1x1x1 + 0.001 x1x1x1x1x1x1 + 0.773 x0x1_dot + 1.044 x1x1_dot + -0.009 x1x1x1x1x1x1x1_dot\n",
      "x0x0_dot = 0.000\n",
      "x1x0_dot = 0.000\n",
      "x0x1x0_dot = 0.000\n",
      "x0x0x0_dot = 0.000\n",
      "x1x1x0_dot = 0.000\n",
      "x0x1x1x0_dot = 0.000\n",
      "x0x0x0x0_dot = 0.000\n",
      "x1x1x1x0_dot = 0.000\n",
      "x0x1x1x1x0_dot = 0.000\n",
      "x0x0x0x0x0_dot = 0.000\n",
      "x1x1x1x1x0_dot = 0.000\n",
      "x0x0x0x0x0x0_dot = 0.000\n",
      "x1x1x1x1x1x0_dot = 0.000\n",
      "x0x0x0x0x0x0x0_dot = 0.000\n",
      "x1x1x1x1x1x1x0_dot = 0.000\n",
      "x0x1_dot = 0.000\n",
      "x1x1_dot = 0.000\n",
      "x0x1x1_dot = 0.000\n",
      "x0x0x1_dot = 0.000\n",
      "x1x1x1_dot = 0.000\n",
      "x0x1x1x1_dot = 0.000\n",
      "x0x0x0x1_dot = 0.000\n",
      "x1x1x1x1_dot = 0.000\n",
      "x0x1x1x1x1_dot = 0.000\n",
      "x0x0x0x0x1_dot = 0.000\n",
      "x1x1x1x1x1_dot = 0.000\n",
      "x0x0x0x0x0x1_dot = 0.000\n",
      "x1x1x1x1x1x1_dot = 0.000\n",
      "x0x0x0x0x0x0x1_dot = 0.000\n",
      "x1x1x1x1x1x1x1_dot = 0.000\n"
     ]
    }
   ],
   "source": [
    "# define parameters\n",
    "r = 2\n",
    "dt = 0.01\n",
    "T = 20\n",
    "t_train = np.arange(0, T + dt, dt)\n",
    "t_train_span = (t_train[0], t_train[-1])\n",
    "\n",
    "# Typically need at least 20-40 trajectories for a decent model.\n",
    "# Note that this can be fairly time-consuming.\n",
    "n_trajectories = 10\n",
    "x_train_multi = []\n",
    "t_train_multi = []\n",
    "x0 = np.random.rand(n_trajectories, 2)\n",
    "for i in range(n_trajectories):\n",
    "    x_train_multi.append(solve_ivp(bacterial, t_train_span, \n",
    "                                   x0[i, :], t_eval=t_train, \n",
    "                                   **integrator_keywords).y.T)\n",
    "    t_train_multi.append(t_train[1:-1])\n",
    "\n",
    "# Initialize custom SINDy library up to sixth order polynomials\n",
    "x_library_functions = [\n",
    "    lambda x: x,\n",
    "    lambda x, y: x * y,\n",
    "    lambda x: x ** 2,\n",
    "    lambda x, y, z: x * y * z,\n",
    "    lambda x, y: x * y ** 2,\n",
    "    lambda x: x ** 3,\n",
    "    lambda x, y, z, w: x * y * z * w,\n",
    "    lambda x, y, z: x * y * z ** 2,\n",
    "    lambda x, y: x * y ** 3,\n",
    "    lambda x: x ** 4,\n",
    "    lambda x: x ** 5,\n",
    "    lambda x: x ** 6,\n",
    "]\n",
    "x_dot_library_functions = [lambda x: x]\n",
    "\n",
    "library_function_names = [\n",
    "    lambda x: x,\n",
    "    lambda x, y: x + y,\n",
    "    lambda x: x + x,\n",
    "    lambda x, y, z: x + y + z,\n",
    "    lambda x, y: x + y + y,\n",
    "    lambda x: x + x + x,\n",
    "    lambda x, y, z, w: x + y + z + w,\n",
    "    lambda x, y, z: x + y + z + z,\n",
    "    lambda x, y: x + y + y + y,\n",
    "    lambda x: x + x + x + x,\n",
    "    lambda x: x + x + x + x + x,\n",
    "    lambda x: x + x + x + x + x + x,\n",
    "    lambda x: x,\n",
    "]\n",
    "\n",
    "# Get the indices of the equations for x0_dot and x1_dot\n",
    "lib = ps.SINDyPILibrary(\n",
    "    library_functions=x_library_functions,\n",
    "    x_dot_library_functions=x_dot_library_functions,\n",
    "    t=t_train,\n",
    "    function_names=library_function_names,\n",
    "    include_bias=True,\n",
    ").fit(np.asarray(x_train_multi)[0, :, :])\n",
    "lib.transform(np.asarray(x_train_multi)[0, :, :])\n",
    "features = np.asarray(lib.get_feature_names())\n",
    "ind1 = int(np.ravel(np.where(features == \"x0_dot\"))[0] - 1)  # -1 because bias term\n",
    "ind2 = int(np.ravel(np.where(features == \"x1_dot\"))[0] - 1)\n",
    "\n",
    "# Need to flatten t_train_multi before passing time base to SINDyPILibrary\n",
    "sindy_library = ps.SINDyPILibrary(\n",
    "    library_functions=x_library_functions,\n",
    "    x_dot_library_functions=x_dot_library_functions,\n",
    "    t=np.ravel(np.asarray(t_train_multi)),\n",
    "    function_names=library_function_names,\n",
    ")\n",
    "\n",
    "# Note, using model_subset (list of indices) to only compute two of the fits\n",
    "sindy_opt = ps.SINDyPI(\n",
    "    threshold=10,\n",
    "    tol=1e-5,\n",
    "    thresholder=\"l1\",\n",
    "    max_iter=20000,\n",
    "    model_subset=[ind1, ind2],\n",
    ")\n",
    "model = ps.SINDy(\n",
    "    optimizer=sindy_opt,\n",
    "    feature_library=sindy_library,\n",
    "    differentiation_method=ps.FiniteDifference(drop_endpoints=True),\n",
    ")\n",
    "model.fit(x_train_multi, t=dt, multiple_trajectories=True)\n",
    "model.print()"
   ]
  },
  {
   "cell_type": "code",
   "execution_count": 9,
   "metadata": {},
   "outputs": [
    {
     "name": "stdout",
     "output_type": "stream",
     "text": [
      "(2002, 2) 2002\n"
     ]
    },
    {
     "data": {
      "image/png": "[encoded data removed]",
      "text/plain": [
       "<Figure size 432x288 with 2 Axes>"
      ]
     },
     "metadata": {
      "needs_background": "light"
     },
     "output_type": "display_data"
    }
   ],
   "source": [
    "# Plot the fit of the derivative\n",
    "x_train = np.asarray(x_train_multi)[0, :, :]\n",
    "x_dot_train = model.differentiate(x_train, t_train)\n",
    "x_dot_train_pred = sindy_opt.Theta_[:len(t_train) - 2, :] @ sindy_opt.coef_.T\n",
    "plt.figure()\n",
    "inds = [ind1, ind2]\n",
    "for i in range(r):\n",
    "    plt.subplot(1, r, i + 1)\n",
    "    plt.plot(t_train, x_dot_train[:, i], 'k')\n",
    "    plt.plot(t_train[1:-1], x_dot_train_pred[:, inds[i]], 'r--')"
   ]
  },
  {
   "cell_type": "markdown",
   "metadata": {},
   "source": [
    "#### SINDy-PI model is not good here, but we proceed anyways to illustrate how to do the symbolic solve + integration in more than 1 dimensions."
   ]
  },
  {
   "cell_type": "code",
   "execution_count": 10,
   "metadata": {},
   "outputs": [],
   "source": [
    "# Repeat formatting the feature names and building the symbolic equations\n",
    "features = model.get_feature_names()\n",
    "nfeatures = len(features)\n",
    "features[0] = \"1\"\n",
    "features_copy = list(np.copy(features))\n",
    "nfeatures = len(features)\n",
    "features_formatted = []\n",
    "# Need to put multiplication between terms for sympy\n",
    "for i in range(nfeatures):\n",
    "    for j in range(r):\n",
    "        # Overkill to make sure all the x0, x1, etc. get replaced\n",
    "        temp_string = features[i].replace(\"x\" + str(j) + \"x\", \"x\" + str(j) + \" * x\")\n",
    "        temp_string = temp_string.replace(\"x\" + str(j) + \"x\", \"x\" + str(j) + \" * x\")\n",
    "        temp_string = temp_string.replace(\"x\" + str(j) + \"x\", \"x\" + str(j) + \" * x\")\n",
    "        temp_string = temp_string.replace(\"x\" + str(j) + \"x\", \"x\" + str(j) + \" * x\")\n",
    "        features[i] = temp_string\n",
    "    features_formatted.append(temp_string)\n",
    "features = features_copy\n",
    "\n",
    "coefs = model.coefficients()\n",
    "sym_features = [sp.symbols(feature) for feature in features]\n",
    "sym_theta = [sp.symbols(feature) for feature in features]\n",
    "sym_equations = []\n",
    "sym_equations_rounded = []\n",
    "for i in range(nfeatures):\n",
    "    if np.any(np.around(coefs[i], 2) != 0.0):\n",
    "        sym_equation = sp.solve(\n",
    "            sp.Eq(sym_theta[i], sym_theta @ np.around(coefs[i], 6)), sym_features[i]\n",
    "        )\n",
    "        sym_equations.append(sym_equation)\n",
    "        sym_equation_rounded = sp.solve(\n",
    "            sp.Eq(sym_theta[i], sym_theta @ np.around(coefs[i], 2)), sym_features[i]\n",
    "        )\n",
    "        sym_equations_rounded.append(sym_equation_rounded)\n"
   ]
  },
  {
   "cell_type": "code",
   "execution_count": 11,
   "metadata": {},
   "outputs": [
    {
     "name": "stdout",
     "output_type": "stream",
     "text": [
      "Solved for xdot equations =  {x1_dot: (-1110.0*x1**6 + 20212.0*x1**5 - 82372.0*x1**4 + 331681.0*x1**2 - 243970.0*x1 - 9959.0)/(772811.0*x0 - 8754.0*x1**6 + 1044332.0*x1 - 1000000.0), x0_dot: 0.021224*x0*x1 + 3.1e-5*x1**6 - 0.000477*x1**4 + 0.007338*x1 - 0.410064}\n"
     ]
    }
   ],
   "source": [
    "# Define the ODE symbol variables\n",
    "t_sym = sp.symbols('t_sym')\n",
    "x_sym = sp.symbols('x:%d' % r)\n",
    "x_dot_sym = sp.symbols('x:%d_dot' % r)\n",
    "\n",
    "# Need to format the above equations so that there are space between x0 * x0, x0 * x_dot0, and so on.\n",
    "sym_equations_formatted = []\n",
    "for i in range(len(sym_equations)):\n",
    "    for j in range(r):\n",
    "        # Overkill to make sure all the x0, x1, etc. get replaced\n",
    "        temp_string = str(sym_equations[i]).replace('x' + str(j) + 'x', 'x' + str(j) + ' * x')\n",
    "        temp_string = temp_string.replace('x' + str(j) + 'x', 'x' + str(j) + ' * x')\n",
    "        temp_string = temp_string.replace('x' + str(j) + 'x', 'x' + str(j) + ' * x')\n",
    "        temp_string = temp_string.replace('x' + str(j) + 'x', 'x' + str(j) + ' * x')\n",
    "        sym_equations[i] = temp_string\n",
    "    sym_equations_formatted.append(temp_string)\n",
    "\n",
    "# IMPORTANT change for multi-variable implicit equations:\n",
    "# Now that the equations are mathematically formatted, \n",
    "# solve for x0_dot and x1_dot in the algebraic equation.\n",
    "# Have two unknowns, (x0_dot, x1_dot), \n",
    "# so need to solve using two of ANY of the equations,\n",
    "# but for simplicity we choose the equations for x0_dot and x1_dot.\n",
    "sym_equations_simplified = sp.solve(\n",
    "    (sp.Add(\n",
    "        sp.sympify(sym_equations_formatted)[0][0], \n",
    "        - sp.sympify(features_formatted[ind1])), \n",
    "    sp.Add(\n",
    "        sp.sympify(sym_equations_formatted)[1][0], \n",
    "        - sp.sympify(features_formatted[ind2]))),\n",
    "    x_dot_sym)\n",
    "print('Solved for xdot equations = ', sym_equations_simplified)\n",
    "\n",
    "# Not the cleanest notation for multiple variables, but it works\n",
    "ODE_Func = sp.lambdify([x_sym, t_sym], \n",
    "                       [sym_equations_simplified[x_dot_sym[0]], \n",
    "                        sym_equations_simplified[x_dot_sym[1]]])\n"
   ]
  },
  {
   "cell_type": "markdown",
   "metadata": {},
   "source": [
    "#### We can simulate the system we identified but tends to be unstable -- need more memory to train on additional trajectories."
   ]
  }
 ],
 "metadata": {
  "kernelspec": {
   "display_name": "Python 3",
   "language": "python",
   "name": "python3"
  },
  "language_info": {
   "codemirror_mode": {
    "name": "ipython",
    "version": 3
   },
   "file_extension": ".py",
   "mimetype": "text/x-python",
   "name": "python",
   "nbconvert_exporter": "python",
   "pygments_lexer": "ipython3",
   "version": "3.7.4"
  },
  "toc": {
   "base_numbering": 1,
   "nav_menu": {},
   "number_sections": true,
   "sideBar": true,
   "skip_h1_title": false,
   "title_cell": "Table of Contents",
   "title_sidebar": "Contents",
   "toc_cell": false,
   "toc_position": {},
   "toc_section_display": true,
   "toc_window_display": false
  }
 },
 "nbformat": 4,
 "nbformat_minor": 4
}
